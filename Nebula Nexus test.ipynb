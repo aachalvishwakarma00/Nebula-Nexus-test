{
 "cells": [
  {
   "cell_type": "code",
   "execution_count": 1,
   "id": "94d9c5a8",
   "metadata": {},
   "outputs": [
    {
     "name": "stdout",
     "output_type": "stream",
     "text": [
      "Number of words: 36\n",
      "Number of lines: 1\n",
      "Number of characters: 313\n",
      "File successfully updated.\n"
     ]
    }
   ],
   "source": [
    "import os\n",
    "\n",
    "def read_file(file_path):\n",
    "    \n",
    "    try:\n",
    "        with open(file_path, 'r') as file:\n",
    "            content = file.read()\n",
    "            return content\n",
    "    except FileNotFoundError:\n",
    "        print(f\"File '{file_path}' not found.\")\n",
    "        return None\n",
    "    except Exception as e:\n",
    "        print(f\"Error occurred while reading file: {e}\")\n",
    "        return None\n",
    "\n",
    "def count_words(content):\n",
    "    \"\"\"Counts the number of words in the content.\"\"\"\n",
    "    if content:\n",
    "        words = content.split()\n",
    "        return len(words)\n",
    "    else:\n",
    "        return 0\n",
    "\n",
    "def count_lines(content):\n",
    "    \"\"\"Counts the number of lines in the content.\"\"\"\n",
    "    if content:\n",
    "        lines = content.split('\\n')\n",
    "        return len(lines)\n",
    "    else:\n",
    "        return 0\n",
    "\n",
    "def count_characters(content):\n",
    "    \"\"\"Counts the number of characters in the content.\"\"\"\n",
    "    if content:\n",
    "        return len(content)\n",
    "    else:\n",
    "        return 0\n",
    "\n",
    "def modify_content(content, old_word, new_word):\n",
    "    \"\"\"Replaces old_word with new_word in the content.\"\"\"\n",
    "    if content:\n",
    "        modified_content = content.replace(old_word, new_word)\n",
    "        return modified_content\n",
    "    else:\n",
    "        return None\n",
    "\n",
    "def write_to_file(file_path, content):\n",
    "    \"\"\"Writes content back to the text file.\"\"\"\n",
    "    try:\n",
    "        with open(file_path, 'w') as file:\n",
    "            file.write(content)\n",
    "            print(\"File successfully updated.\")\n",
    "    except Exception as e:\n",
    "        print(f\"Error occurred while writing to file: {e}\")\n",
    "\n",
    "def main():\n",
    "    file_path = \"C:\\\\Users\\\\achal\\\\OneDrive\\\\Desktop\\\\apple.txt\"\n",
    "    content = read_file(file_path)\n",
    "    if content:\n",
    "        print(f\"Number of words: {count_words(content)}\")\n",
    "        print(f\"Number of lines: {count_lines(content)}\")\n",
    "        print(f\"Number of characters: {count_characters(content)}\")\n",
    "\n",
    "        old_word = \"old_word\"\n",
    "        new_word = \"new_word\"\n",
    "        modified_content = modify_content(content, old_word, new_word)\n",
    "        if modified_content:\n",
    "            write_to_file(file_path, modified_content)\n",
    "\n",
    "if __name__ == \"__main__\":\n",
    "    main()\n"
   ]
  },
  {
   "cell_type": "code",
   "execution_count": null,
   "id": "d3a6ff7b",
   "metadata": {},
   "outputs": [],
   "source": []
  }
 ],
 "metadata": {
  "kernelspec": {
   "display_name": "Python 3 (ipykernel)",
   "language": "python",
   "name": "python3"
  },
  "language_info": {
   "codemirror_mode": {
    "name": "ipython",
    "version": 3
   },
   "file_extension": ".py",
   "mimetype": "text/x-python",
   "name": "python",
   "nbconvert_exporter": "python",
   "pygments_lexer": "ipython3",
   "version": "3.11.5"
  }
 },
 "nbformat": 4,
 "nbformat_minor": 5
}
